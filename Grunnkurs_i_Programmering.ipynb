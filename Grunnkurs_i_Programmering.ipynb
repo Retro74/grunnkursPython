{
  "nbformat": 4,
  "nbformat_minor": 0,
  "metadata": {
    "colab": {
      "name": "Grunnkurs_i_Programmering.ipynb",
      "provenance": [],
      "toc_visible": true,
      "authorship_tag": "ABX9TyMnJPWvU1WWR2hXwd8b3V73",
      "include_colab_link": true
    },
    "kernelspec": {
      "name": "python3",
      "display_name": "Python 3"
    },
    "language_info": {
      "name": "python"
    }
  },
  "cells": [
    {
      "cell_type": "markdown",
      "metadata": {
        "id": "view-in-github",
        "colab_type": "text"
      },
      "source": [
        "<a href=\"https://colab.research.google.com/github/Retro74/grunnkursPython/blob/main/Grunnkurs_i_Programmering.ipynb\" target=\"_parent\"><img src=\"https://colab.research.google.com/assets/colab-badge.svg\" alt=\"Open In Colab\"/></a>"
      ]
    },
    {
      "cell_type": "markdown",
      "metadata": {
        "id": "ojk_fwW5ndZl"
      },
      "source": [
        "#Velkommen til dette grunnkurset i Python programmering\n",
        "<img src=\"https://media.aunivers.no/images/_aliases/thumbnail/0/2/9/4/284920-1-nor-NO/Forside_thumb.png\" width=\"200\"><br>\n",
        "Opplegget her er en paralell til Aschehougs Grunnkurs i Programmering med Python\n",
        "<a href=\"https://aunivers.lokus.no/fagpakker/realfag/matematikk-1t/velkommen/ressurser/programmering/ressurser/grunnkurs-i-programmering-med-python?c=MTU1OTc%3D\">aunivers.lokus.no - Grunnkurs i Programmering</a>\n",
        "(NB. Krever Feide-innlogging og abonnment)\n",
        "Kurset hos Aschehoug følger delene\n",
        "<ol>\n",
        "<li>Kom i gang med Python</li>\n",
        "<li>Variabler og regneoperasjoner</li>\n",
        "<li>Løkker</li>\n",
        "<li>Betingelser og valg</li>\n",
        "<li>Geometri med turtle</li>\n",
        "<li>Lister, arrayer og tilfeldige tall</li>\n",
        "<li>Funksjoner</li>\n",
        "<li>Grafer av funksjoner og datasett</li>\n",
        "</ol>\n",
        "\n",
        "Denne paralellen følger de samme stegene som kurset ovenfor, men inneholder utvidete oppgaver og utdypende forklaringer.\n",
        "Bruk menyen ute til venstre for å navigere deg frem til de ulike delene av kurset\n",
        "<hr>\n",
        "<i>La oss sette i gang! </i>😉\n"
      ]
    },
    {
      "cell_type": "markdown",
      "metadata": {
        "id": "Nd947TPytQuD"
      },
      "source": [
        "##1 Kom i gang med Python\n",
        "Content under development.."
      ]
    },
    {
      "cell_type": "markdown",
      "metadata": {
        "id": "B3Zz8TFftx0o"
      },
      "source": [
        "##2 Variabler og regneoperasjoner\n"
      ]
    },
    {
      "cell_type": "markdown",
      "metadata": {
        "id": "dzNgOVP9DNsR"
      },
      "source": [
        "###2.1 Teori\n",
        "\n"
      ]
    },
    {
      "cell_type": "markdown",
      "metadata": {
        "id": "zJNHux-CDULL"
      },
      "source": [
        "###2.2 Oppgaver \n"
      ]
    },
    {
      "cell_type": "markdown",
      "metadata": {
        "id": "Ng0Ezkk_DWYf"
      },
      "source": [
        "####2.2.1 Oppgave \n",
        "Du skal lage et program hvor bruken skal kunne skive inn to tall og en regneart, (+, -, * eller /), og deretter vise regnestykket og svaret."
      ]
    },
    {
      "cell_type": "code",
      "metadata": {
        "id": "IanY_BrHBedE"
      },
      "source": [
        ""
      ],
      "execution_count": null,
      "outputs": []
    },
    {
      "cell_type": "markdown",
      "metadata": {
        "id": "mB2sah3kuQfw"
      },
      "source": [
        "##3 Løkker\n"
      ]
    },
    {
      "cell_type": "markdown",
      "metadata": {
        "id": "hlMHEI_LDcmz"
      },
      "source": [
        "###3.1 Teori\n"
      ]
    },
    {
      "cell_type": "markdown",
      "metadata": {
        "id": "LFMUcp9kDhGt"
      },
      "source": [
        "###3.2 Oppgaver\n"
      ]
    },
    {
      "cell_type": "markdown",
      "metadata": {
        "id": "H5TbsODrDlZr"
      },
      "source": [
        "###3.2.1 Oppgave\n",
        "Lag et program som skrivet ut gangetabellen til et tall brukeren oppgir."
      ]
    },
    {
      "cell_type": "code",
      "metadata": {
        "id": "KBPYImPoCQZ2"
      },
      "source": [
        ""
      ],
      "execution_count": null,
      "outputs": []
    },
    {
      "cell_type": "markdown",
      "metadata": {
        "id": "uXjn2unjCQ1N"
      },
      "source": [
        "###3.2.2 Oppgave\n",
        "Lag et program som faktoriserer et tall oppgitt av brukeren, og skrivere ut alle faktorene, f.eks. slik:\n",
        "\n",
        "`24 = 2*2*2*3`\n"
      ]
    },
    {
      "cell_type": "code",
      "metadata": {
        "id": "BTqIu0qcCbtK"
      },
      "source": [
        ""
      ],
      "execution_count": null,
      "outputs": []
    },
    {
      "cell_type": "markdown",
      "metadata": {
        "id": "Uomcx6X1GYTM"
      },
      "source": [
        "##4 Betingelser og valg\n"
      ]
    },
    {
      "cell_type": "markdown",
      "metadata": {
        "id": "KpETbpEmD50i"
      },
      "source": [
        "###4.1 Teori\n",
        "Her kommer litt ekstra teori om dette temaet\n",
        "\n",
        "\n"
      ]
    },
    {
      "cell_type": "markdown",
      "metadata": {
        "id": "lppJLp-HD_eQ"
      },
      "source": [
        "####4.2 Oppgaver"
      ]
    },
    {
      "cell_type": "markdown",
      "metadata": {
        "id": "xfTBXXr7EEIa"
      },
      "source": [
        "####4.2.1 Oppgave\n",
        "Lag et program hvor brukeren skal kunne registrere navnet sitt og fødselsåret sitt, samt gi en bekreftelse på om han har hatt bursdag i år.\n",
        "Programmet skal deretter skrive ut en hilsen til brukeren, med hvor gammel han er."
      ]
    },
    {
      "cell_type": "code",
      "metadata": {
        "id": "RDBF2_zdCBkI"
      },
      "source": [
        ""
      ],
      "execution_count": null,
      "outputs": []
    },
    {
      "cell_type": "markdown",
      "metadata": {
        "id": "b_aq3yu7B_1M"
      },
      "source": [
        "###Oppgave 4.2 \n",
        "Inntakskravene til HMK Garden, er at du må være 175cm høy hvis du er gutt, og 165 om du er jente. Dessuten må du være mellom 19 og 22 år gammel. \n",
        "Lag et program som tar imot de data som trengs, for å kunne avgjøre om en bruker kan søke seg til HMK garde. Og gir et svar om vedkommende er kvalifisert.\n"
      ]
    },
    {
      "cell_type": "code",
      "metadata": {
        "id": "1r_KHhxLCLQo"
      },
      "source": [
        ""
      ],
      "execution_count": null,
      "outputs": []
    },
    {
      "cell_type": "markdown",
      "metadata": {
        "id": "-NLZOuQ6GqeT"
      },
      "source": [
        "##5 Geometri med turtle\n",
        "Content under development..\n"
      ]
    },
    {
      "cell_type": "markdown",
      "metadata": {
        "id": "SmZ-2Tp7CgNz"
      },
      "source": [
        "## 5.1"
      ]
    },
    {
      "cell_type": "code",
      "metadata": {
        "colab": {
          "base_uri": "https://localhost:8080/"
        },
        "id": "KjI527BdXYTI",
        "outputId": "1181164b-c769-4c12-a95d-07b317dca1e5"
      },
      "source": [
        "# For å kunne bruke turle i colab må vi installere colabs implementasjon av turtle slik:\n",
        "!pip install ColabTurtlePlus\n",
        "# Nå importerer vi biblioteket\n",
        "from ColabTurtlePlus.Turtle import *"
      ],
      "execution_count": null,
      "outputs": [
        {
          "output_type": "stream",
          "name": "stdout",
          "text": [
            "Collecting ColabTurtlePlus\n",
            "  Downloading ColabTurtlePlus-2.0.1-py3-none-any.whl (31 kB)\n",
            "Installing collected packages: ColabTurtlePlus\n",
            "Successfully installed ColabTurtlePlus-2.0.1\n",
            "Put clearscreen() as the first line in a cell (after the import command) to re-run turtle commands in the cell\n"
          ]
        }
      ]
    },
    {
      "cell_type": "code",
      "metadata": {
        "colab": {
          "base_uri": "https://localhost:8080/",
          "height": 321
        },
        "id": "-2gVOcZCdx9E",
        "outputId": "ec15d55e-592c-4ad2-de3a-70a4abc1ac30"
      },
      "source": [
        "clearscreen()\n",
        "setup(300,300)\n",
        "showborder()\n",
        "color(\"red\", \"yellow\")\n",
        "shape(\"turtle\")\n",
        "pensize(2)\n",
        "speed(7)\n",
        "begin_fill()\n",
        "for _ in range(4):\n",
        "  forward(100)\n",
        "  left(90)\n",
        "circle(-50)\n",
        "end_fill()\n",
        "color(\"black\",\"green\")\n",
        "saveSVG(turtle=True)"
      ],
      "execution_count": null,
      "outputs": [
        {
          "output_type": "display_data",
          "data": {
            "text/html": [
              "\n",
              "      <svg width=\"300\" height=\"300\">  \n",
              "        <rect width=\"100%\" height=\"100%\" style=\"fill:white;stroke:gray;stroke-width:1\"/>\n",
              "        \n",
              "        \n",
              "        <path fill-rule=\"evenodd\" fill-opacity=\"1\" d=\"M 150.0 150.0  L 250.0 150.0  L 250.0 50.0  L 150.0 50.0  L 150.0 150.0  A -50 -50 0 0 1 150.0 250.0  A -50 -50 0 0 1 150.0 150.0 \" stroke-linecap=\"round\" style=\"stroke:red;stroke-width:2\" fill=\"yellow\" />\n",
              "        \n",
              "        \n",
              "        <g id=\"turtle\" visibility=\"visible\" transform=\"rotate(90.0,150.0,150.0) translate(150.0, 150.0)\">\n",
              "<path style=\"stroke:black;fill-rule:evenodd;fill:green;fill-opacity:1;\" transform=\"skewX(0) scale(1,1)\" d=\"m 1.1536693,-18.56101 c -2.105469,1.167969 -3.203125,3.441407 -3.140625,6.5 l 0.011719,0.519532 -0.300782,-0.15625 c -1.308594,-0.671875 -2.828125,-0.824219 -4.378906,-0.429688 -1.9375,0.484375 -3.8906253,2.089844 -6.0117193,4.9257825 -1.332031,1.785156 -1.714843,2.644531 -1.351562,3.035156 l 0.113281,0.125 h 0.363281 c 0.71875,0 1.308594,-0.265625 4.6679693,-2.113282 1.199219,-0.660156 2.183594,-1.199218 2.191406,-1.199218 0.00781,0 -0.023437,0.089844 -0.074218,0.195312 -0.472657,1.058594 -1.046876,2.785156 -1.335938,4.042969 -1.054688,4.574219 -0.351562,8.453125 2.101562,11.582031 0.28125,0.355469 0.292969,0.253906 -0.097656,0.722656 -2.046875,2.4609375 -3.027344,4.8984375 -2.734375,6.8046875 0.050781,0.339844 0.042969,0.335938 0.679688,0.335938 2.023437,0 4.15625,-1.316407 6.21875,-3.835938 0.222656,-0.269531 0.191406,-0.261719 0.425781,-0.113281 0.730469,0.46875 2.460938,1.390625 2.613281,1.390625 0.160157,0 1.765625,-0.753906 2.652344,-1.246094 0.167969,-0.09375 0.308594,-0.164062 0.308594,-0.160156 0.066406,0.105468 0.761719,0.855468 1.085937,1.171875 1.613282,1.570312 3.339844,2.402343 5.3593747,2.570312 0.324219,0.02734 0.355469,0.0078 0.425781,-0.316406 0.375,-1.742187 -0.382812,-4.058594 -2.1445307,-6.5585935 l -0.320312,-0.457031 0.15625,-0.183594 c 3.2460927,-3.824218 3.4335927,-9.08593704 0.558593,-15.816406 l -0.050781,-0.125 1.7382807,0.859375 c 3.585938,1.773437 4.371094,2.097656 5.085938,2.097656 0.945312,0 0.75,-0.863281 -0.558594,-2.507812 C 11.458356,-11.838353 8.3333563,-13.268041 4.8607003,-11.721166 l -0.363281,0.164063 0.019531,-0.09375 c 0.121094,-0.550781 0.183594,-1.800781 0.121094,-2.378907 -0.203125,-1.867187 -1.035157,-3.199218 -2.695313,-4.308593 -0.523437,-0.351563 -0.546875,-0.355469 -0.789062,-0.222657\" />\n",
              "</g>\n",
              "      </svg>\n",
              "    "
            ],
            "text/plain": [
              "<IPython.core.display.HTML object>"
            ]
          },
          "metadata": {}
        }
      ]
    },
    {
      "cell_type": "markdown",
      "metadata": {
        "id": "nGikKdAZSCP0"
      },
      "source": [
        "##6 Lister, arrayer og tilfeldige tall\n",
        "Content under development.."
      ]
    },
    {
      "cell_type": "markdown",
      "metadata": {
        "id": "aa1vWmGgSIWM"
      },
      "source": [
        "##7 Funksjoner\n",
        "Content under development.."
      ]
    },
    {
      "cell_type": "markdown",
      "metadata": {
        "id": "LfYd6kE-SMIm"
      },
      "source": [
        "##8 Grafer av funksjoner og datasett\n",
        "Content under development.."
      ]
    }
  ]
}