{
  "nbformat": 4,
  "nbformat_minor": 0,
  "metadata": {
    "colab": {
      "name": "Grunnkurs_i_Programmering.ipynb",
      "provenance": [],
      "toc_visible": true,
      "authorship_tag": "ABX9TyPA8BtBZBvEd1abcTUeAkcN",
      "include_colab_link": true
    },
    "kernelspec": {
      "name": "python3",
      "display_name": "Python 3"
    },
    "language_info": {
      "name": "python"
    }
  },
  "cells": [
    {
      "cell_type": "markdown",
      "metadata": {
        "id": "view-in-github",
        "colab_type": "text"
      },
      "source": [
        "<a href=\"https://colab.research.google.com/github/Retro74/grunnkursPython/blob/main/Grunnkurs_i_Programmering.ipynb\" target=\"_parent\"><img src=\"https://colab.research.google.com/assets/colab-badge.svg\" alt=\"Open In Colab\"/></a>"
      ]
    },
    {
      "cell_type": "markdown",
      "metadata": {
        "id": "VSWfADdTcwY2"
      },
      "source": [
        "[Link Text](#cell-id)"
      ]
    },
    {
      "cell_type": "markdown",
      "metadata": {
        "id": "ojk_fwW5ndZl"
      },
      "source": [
        "<a name=\"top\"></a>\n",
        "#Velkommen til dette grunnkurset i Python programmering\n",
        "<img src=\"https://media.aunivers.no/images/_aliases/thumbnail/0/2/9/4/284920-1-nor-NO/Forside_thumb.png\" width=\"200\"><br>\n",
        "Opplegget her er en paralell til Aschehougs Grunnkurs i Programmering med Python\n",
        "<a href=\"https://aunivers.lokus.no/fagpakker/realfag/matematikk-1t/velkommen/ressurser/programmering/ressurser/grunnkurs-i-programmering-med-python?c=MTU1OTc%3D\">aunivers.lokus.no - Grunnkurs i Programmering</a>\n",
        "(NB. Krever Feide-innlogging og abonnment)\n",
        "Kurset hos Aschehoug følger delene\n",
        "1. [Kom i gang med Python](#Kom-i-gang-med-Python)\n",
        "1. [Variabler og regneoperasjoner](#Variabler-og-regneoperasjoner)\n",
        "1. [Løkker](#Løkker)\n",
        "1. [Betingelser og valg](#Betingelser-og-valg)\n",
        "1. [Geometri med turtle](#Geometri-med-turtle)\n",
        "1. [Lister, arrayer og tilfeldige tall](#Lister-arrayer-og-tilfeldige-tall)\n",
        "1. [Funksjoner](#Funksjoner)\n",
        "1. [Grafer av funksjoner og datasett](#Grafer-av-funksjoner-og-datasett)\n",
        "1. [Ekstramateriale](#Ekstramateriale)\n",
        "1. [Åpne prosjekter](#Åpne-prosjekter)\n",
        "\n",
        "Denne paralellen følger altså de samme stegene som kurset ovenfor, men inneholder utvidete åpne oppgaver og utdypende forklaringer.\n",
        "Bruk menyen ute til venstre for å navigere deg frem til de ulike delene av kurset\n",
        "<hr>\n",
        "<i>La oss sette i gang! </i>😉\n"
      ]
    },
    {
      "cell_type": "markdown",
      "metadata": {
        "id": "Nd947TPytQuD"
      },
      "source": [
        "<a name=\"Kom-i-gang-med-Python\"></a>\n",
        "##1 Kom i gang med Python\n",
        "Content under development..\n",
        "\n",
        "[Til toppen](#top)"
      ]
    },
    {
      "cell_type": "markdown",
      "metadata": {
        "id": "B3Zz8TFftx0o"
      },
      "source": [
        "<a name=\"Variabler-og-regneoperasjoner\"></a>\n",
        "##2 Variabler og regneoperasjoner\n",
        "\n",
        "[Til toppen](#top)\n"
      ]
    },
    {
      "cell_type": "markdown",
      "metadata": {
        "id": "dzNgOVP9DNsR"
      },
      "source": [
        "###2.1 Teori\n",
        "\n"
      ]
    },
    {
      "cell_type": "markdown",
      "metadata": {
        "id": "zJNHux-CDULL"
      },
      "source": [
        "###2.2 Oppgaver \n"
      ]
    },
    {
      "cell_type": "markdown",
      "metadata": {
        "id": "Ng0Ezkk_DWYf"
      },
      "source": [
        "####2.2.1 Oppgave \n",
        "Du skal lage et program hvor bruken skal kunne skive inn to tall og en regneart, (+, -, * eller /), og deretter vise regnestykket og svaret."
      ]
    },
    {
      "cell_type": "code",
      "metadata": {
        "id": "IanY_BrHBedE"
      },
      "source": [
        ""
      ],
      "execution_count": null,
      "outputs": []
    },
    {
      "cell_type": "markdown",
      "metadata": {
        "id": "mB2sah3kuQfw"
      },
      "source": [
        "<a name=\"Løkker\"></a>\n",
        "##3 Løkker\n",
        "\n",
        "[Til toppen](#top)"
      ]
    },
    {
      "cell_type": "markdown",
      "metadata": {
        "id": "hlMHEI_LDcmz"
      },
      "source": [
        "###3.1 Teori\n"
      ]
    },
    {
      "cell_type": "markdown",
      "metadata": {
        "id": "LFMUcp9kDhGt"
      },
      "source": [
        "###3.2 Oppgaver\n"
      ]
    },
    {
      "cell_type": "markdown",
      "metadata": {
        "id": "H5TbsODrDlZr"
      },
      "source": [
        "###3.2.1 Oppgave\n",
        "Lag et program som skrivet ut gangetabellen til et tall brukeren oppgir."
      ]
    },
    {
      "cell_type": "code",
      "metadata": {
        "id": "KBPYImPoCQZ2"
      },
      "source": [
        ""
      ],
      "execution_count": null,
      "outputs": []
    },
    {
      "cell_type": "markdown",
      "metadata": {
        "id": "uXjn2unjCQ1N"
      },
      "source": [
        "###3.2.2 Oppgave\n",
        "Lag et program som faktoriserer et tall oppgitt av brukeren, og skrivere ut alle faktorene, f.eks. slik:\n",
        "\n",
        "`24 = 2*2*2*3`\n"
      ]
    },
    {
      "cell_type": "code",
      "metadata": {
        "id": "BTqIu0qcCbtK"
      },
      "source": [
        ""
      ],
      "execution_count": null,
      "outputs": []
    },
    {
      "cell_type": "markdown",
      "metadata": {
        "id": "UrXvSzoZMF1t"
      },
      "source": [
        "####3.2.3 Oppgave\n",
        "La brukeren skrive inn to tall og la et program regne ut summen av alle tallene mellom disse to tallene."
      ]
    },
    {
      "cell_type": "code",
      "metadata": {
        "id": "NPDjaN5eMLFr"
      },
      "source": [
        ""
      ],
      "execution_count": null,
      "outputs": []
    },
    {
      "cell_type": "markdown",
      "metadata": {
        "id": "Uomcx6X1GYTM"
      },
      "source": [
        "<a name=\"Betingelser-og-valg\"></a>\n",
        "##4 Betingelser og valg\n",
        "\n",
        "[Til toppen](#top)"
      ]
    },
    {
      "cell_type": "markdown",
      "metadata": {
        "id": "KpETbpEmD50i"
      },
      "source": [
        "###4.1 Teori\n",
        "Her kommer litt ekstra teori om dette temaet\n",
        "\n",
        "\n"
      ]
    },
    {
      "cell_type": "markdown",
      "metadata": {
        "id": "lppJLp-HD_eQ"
      },
      "source": [
        "####4.2 Oppgaver"
      ]
    },
    {
      "cell_type": "markdown",
      "metadata": {
        "id": "xfTBXXr7EEIa"
      },
      "source": [
        "####4.2.1 Oppgave\n",
        "Lag et program hvor brukeren skal kunne registrere navnet sitt og fødselsåret sitt, samt gi en bekreftelse på om han har hatt bursdag i år.\n",
        "Programmet skal deretter skrive ut en hilsen til brukeren, med hvor gammel han er."
      ]
    },
    {
      "cell_type": "code",
      "metadata": {
        "id": "RDBF2_zdCBkI"
      },
      "source": [
        ""
      ],
      "execution_count": null,
      "outputs": []
    },
    {
      "cell_type": "markdown",
      "metadata": {
        "id": "b_aq3yu7B_1M"
      },
      "source": [
        "####4.2.2 Oppgave  \n",
        "Inntakskravene til HMK Garden, er at du må være 175cm høy hvis du er gutt, og 165 om du er jente. Dessuten må du være mellom 19 og 22 år gammel. \n",
        "Lag et program som tar imot de data som trengs, for å kunne avgjøre om en bruker kan søke seg til HMK garde. Og gir et svar om vedkommende er kvalifisert.\n"
      ]
    },
    {
      "cell_type": "code",
      "metadata": {
        "id": "1r_KHhxLCLQo"
      },
      "source": [
        ""
      ],
      "execution_count": null,
      "outputs": []
    },
    {
      "cell_type": "markdown",
      "metadata": {
        "id": "RcbclEPsMT3H"
      },
      "source": [
        "####4.2.3 Oppgave\n",
        "Bruk import random\n",
        "Og hent et «hemmelig» tilfeldig tall mellom 1-100 med random.randrange(1,101)\n",
        "La brukeren gjette på det hemmelige tallet. Programmet svarer på om tallet er for lavt eller for høyt. Brukeren skal kunne gjette helt til han treffer riktig tall. Programmet skal til slutt vise hvor mange ganger brukeren gjetter.\n"
      ]
    },
    {
      "cell_type": "code",
      "metadata": {
        "id": "8AOcAA5lMopd"
      },
      "source": [
        ""
      ],
      "execution_count": null,
      "outputs": []
    },
    {
      "cell_type": "markdown",
      "metadata": {
        "id": "xZEpuGsrMpFd"
      },
      "source": [
        "####4.2.4 Oppgave\n",
        "Lag et program som regner ut gjennomsnittet av et ukjent antall observasjoner. Observasjonene legges inn av brukernen en og en"
      ]
    },
    {
      "cell_type": "code",
      "metadata": {
        "id": "mMufTLxVM-Vc"
      },
      "source": [
        ""
      ],
      "execution_count": null,
      "outputs": []
    },
    {
      "cell_type": "markdown",
      "metadata": {
        "id": "f6PXaAa7M-77"
      },
      "source": [
        "####4.2.5 Oppgave\n",
        "Per sparere penger på en konto i banken. Han har 48.000 kroner til å begynne med. Og han vil årlig spare et tillegg på 4500 kroner. Banken tilbyr 3% rente, men øker denne med 0,8% for hver 50.000 som er på kontoen.\n",
        "Lag et program som regner ut og skriver ut hvor mye som er på kontoen for hvert år og hvor mye han har fått i rente. La Per selv kunne prøve med ulike «års-lengder» på sparingen.\n"
      ]
    },
    {
      "cell_type": "code",
      "metadata": {
        "id": "E_efs5SnNHW1"
      },
      "source": [
        ""
      ],
      "execution_count": null,
      "outputs": []
    },
    {
      "cell_type": "markdown",
      "metadata": {
        "id": "hgdH5LXyNIH5"
      },
      "source": [
        "####4.2.6 Oppgave\n",
        "Banker tilbyr årlige renter, noe man kan bruke formelen N = G * v^t, der t er antall år og v er vekstfaktoren definert som v = 1+p/100\n",
        "Men fakta er at bankene beregner den daglige renten, noe som betyr at t vil være dager/365.\n",
        "Lag et program som regner ut og skriver ut hvor mye et beløp (som brukeren oppgir) vokser med, når det står på en konto med en 7% årlig rente i et gitt antall dager, som brukeren selv oppgir.\n"
      ]
    },
    {
      "cell_type": "code",
      "metadata": {
        "id": "MVLRrBnxNMXA"
      },
      "source": [
        ""
      ],
      "execution_count": null,
      "outputs": []
    },
    {
      "cell_type": "markdown",
      "metadata": {
        "id": "-NLZOuQ6GqeT"
      },
      "source": [
        "<a name=\"Geometri-med-turtle\"></a>\n",
        "##5 Geometri med turtle\n",
        "\n",
        "\n",
        "[Til toppen](#top)"
      ]
    },
    {
      "cell_type": "markdown",
      "metadata": {
        "id": "SmZ-2Tp7CgNz"
      },
      "source": [
        "###5.1 Teori"
      ]
    },
    {
      "cell_type": "code",
      "metadata": {
        "colab": {
          "base_uri": "https://localhost:8080/"
        },
        "id": "KjI527BdXYTI",
        "outputId": "8f753d91-4aaf-4392-ab21-694f98f3d314"
      },
      "source": [
        "# For å kunne bruke turle i colab må vi installere colabs implementasjon av turtle slik:\n",
        "!pip install ColabTurtlePlus\n",
        "# Nå importerer vi biblioteket\n",
        "from ColabTurtlePlus.Turtle import *"
      ],
      "execution_count": 2,
      "outputs": [
        {
          "output_type": "stream",
          "name": "stdout",
          "text": [
            "Collecting ColabTurtlePlus\n",
            "  Downloading ColabTurtlePlus-2.0.1-py3-none-any.whl (31 kB)\n",
            "Installing collected packages: ColabTurtlePlus\n",
            "Successfully installed ColabTurtlePlus-2.0.1\n",
            "Put clearscreen() as the first line in a cell (after the import command) to re-run turtle commands in the cell\n"
          ]
        }
      ]
    },
    {
      "cell_type": "markdown",
      "metadata": {
        "id": "I14jivL_Nmch"
      },
      "source": [
        "###5.2 Oppgaver"
      ]
    },
    {
      "cell_type": "markdown",
      "metadata": {
        "id": "Rs4wpsoiNtWu"
      },
      "source": [
        "####5.2.1 Oppgave\n",
        "Lag mønsteret fra opplegget til Aschehoug slik:\n",
        "\n",
        "```python\n",
        "clearscreen()\n",
        "setup(300,300)\n",
        "speed(13)\n",
        "for i in range(60):\n",
        "  for n in range(4):\n",
        "    forward(80)\n",
        "    right(90)\n",
        "  right(6)\n",
        "```"
      ]
    },
    {
      "cell_type": "code",
      "metadata": {
        "colab": {
          "base_uri": "https://localhost:8080/",
          "height": 321
        },
        "id": "G_RBglYhOyxd",
        "outputId": "b93574c4-004a-45a8-fb39-b524f22b17f3"
      },
      "source": [
        "clearscreen()\n",
        "setup(300,300)\n",
        "speed(13)\n",
        "for i in range(60):\n",
        "  for n in range(4):\n",
        "    forward(80)\n",
        "    right(90)\n",
        "  right(6)"
      ],
      "execution_count": 6,
      "outputs": [
        {
          "output_type": "display_data",
          "data": {
            "text/html": [
              "\n",
              "      <svg width=\"300\" height=\"300\">  \n",
              "        <rect width=\"100%\" height=\"100%\" style=\"fill:white;stroke:;stroke-width:1\"/>\n",
              "        \n",
              "        \n",
              "        <line x1=\"150.0\" y1=\"150.0\" x2=\"230.0\" y2=\"150.0\" stroke-linecap=\"round\" style=\"stroke:black;stroke-width:1\" /><line x1=\"230.0\" y1=\"150.0\" x2=\"230.0\" y2=\"230.0\" stroke-linecap=\"round\" style=\"stroke:black;stroke-width:1\" /><line x1=\"230.0\" y1=\"230.0\" x2=\"150.0\" y2=\"230.0\" stroke-linecap=\"round\" style=\"stroke:black;stroke-width:1\" /><line x1=\"150.0\" y1=\"230.0\" x2=\"150.0\" y2=\"150.0\" stroke-linecap=\"round\" style=\"stroke:black;stroke-width:1\" /><line x1=\"150.0\" y1=\"150.0\" x2=\"229.562\" y2=\"158.362\" stroke-linecap=\"round\" style=\"stroke:black;stroke-width:1\" /><line x1=\"229.562\" y1=\"158.362\" x2=\"221.2\" y2=\"237.924\" stroke-linecap=\"round\" style=\"stroke:black;stroke-width:1\" /><line x1=\"221.2\" y1=\"237.924\" x2=\"141.638\" y2=\"229.562\" stroke-linecap=\"round\" style=\"stroke:black;stroke-width:1\" /><line x1=\"141.638\" y1=\"229.562\" x2=\"150.0\" y2=\"150.0\" stroke-linecap=\"round\" style=\"stroke:black;stroke-width:1\" /><line x1=\"150.0\" y1=\"150.0\" x2=\"228.252\" y2=\"166.633\" stroke-linecap=\"round\" style=\"stroke:black;stroke-width:1\" /><line x1=\"228.252\" y1=\"166.633\" x2=\"211.619\" y2=\"244.885\" stroke-linecap=\"round\" style=\"stroke:black;stroke-width:1\" /><line x1=\"211.619\" y1=\"244.885\" x2=\"133.367\" y2=\"228.252\" stroke-linecap=\"round\" style=\"stroke:black;stroke-width:1\" /><line x1=\"133.367\" y1=\"228.252\" x2=\"150.0\" y2=\"150.0\" stroke-linecap=\"round\" style=\"stroke:black;stroke-width:1\" /><line x1=\"150.0\" y1=\"150.0\" x2=\"226.085\" y2=\"174.721\" stroke-linecap=\"round\" style=\"stroke:black;stroke-width:1\" /><line x1=\"226.085\" y1=\"174.721\" x2=\"201.364\" y2=\"250.806\" stroke-linecap=\"round\" style=\"stroke:black;stroke-width:1\" /><line x1=\"201.364\" y1=\"250.806\" x2=\"125.279\" y2=\"226.085\" stroke-linecap=\"round\" style=\"stroke:black;stroke-width:1\" /><line x1=\"125.279\" y1=\"226.085\" x2=\"150.0\" y2=\"150.0\" stroke-linecap=\"round\" style=\"stroke:black;stroke-width:1\" /><line x1=\"150.0\" y1=\"150.0\" x2=\"223.084\" y2=\"182.539\" stroke-linecap=\"round\" style=\"stroke:black;stroke-width:1\" /><line x1=\"223.084\" y1=\"182.539\" x2=\"190.545\" y2=\"255.623\" stroke-linecap=\"round\" style=\"stroke:black;stroke-width:1\" /><line x1=\"190.545\" y1=\"255.623\" x2=\"117.461\" y2=\"223.084\" stroke-linecap=\"round\" style=\"stroke:black;stroke-width:1\" /><line x1=\"117.461\" y1=\"223.084\" x2=\"150.0\" y2=\"150.0\" stroke-linecap=\"round\" style=\"stroke:black;stroke-width:1\" /><line x1=\"150.0\" y1=\"150.0\" x2=\"219.282\" y2=\"190.0\" stroke-linecap=\"round\" style=\"stroke:black;stroke-width:1\" /><line x1=\"219.282\" y1=\"190.0\" x2=\"179.282\" y2=\"259.282\" stroke-linecap=\"round\" style=\"stroke:black;stroke-width:1\" /><line x1=\"179.282\" y1=\"259.282\" x2=\"110.0\" y2=\"219.282\" stroke-linecap=\"round\" style=\"stroke:black;stroke-width:1\" /><line x1=\"110.0\" y1=\"219.282\" x2=\"150.0\" y2=\"150.0\" stroke-linecap=\"round\" style=\"stroke:black;stroke-width:1\" /><line x1=\"150.0\" y1=\"150.0\" x2=\"214.721\" y2=\"197.023\" stroke-linecap=\"round\" style=\"stroke:black;stroke-width:1\" /><line x1=\"214.721\" y1=\"197.023\" x2=\"167.698\" y2=\"261.744\" stroke-linecap=\"round\" style=\"stroke:black;stroke-width:1\" /><line x1=\"167.698\" y1=\"261.744\" x2=\"102.977\" y2=\"214.721\" stroke-linecap=\"round\" style=\"stroke:black;stroke-width:1\" /><line x1=\"102.977\" y1=\"214.721\" x2=\"150.0\" y2=\"150.0\" stroke-linecap=\"round\" style=\"stroke:black;stroke-width:1\" /><line x1=\"150.0\" y1=\"150.0\" x2=\"209.452\" y2=\"203.53\" stroke-linecap=\"round\" style=\"stroke:black;stroke-width:1\" /><line x1=\"209.452\" y1=\"203.53\" x2=\"155.922\" y2=\"262.982\" stroke-linecap=\"round\" style=\"stroke:black;stroke-width:1\" /><line x1=\"155.922\" y1=\"262.982\" x2=\"96.47\" y2=\"209.452\" stroke-linecap=\"round\" style=\"stroke:black;stroke-width:1\" /><line x1=\"96.47\" y1=\"209.452\" x2=\"150.0\" y2=\"150.0\" stroke-linecap=\"round\" style=\"stroke:black;stroke-width:1\" /><line x1=\"150.0\" y1=\"150.0\" x2=\"203.53\" y2=\"209.452\" stroke-linecap=\"round\" style=\"stroke:black;stroke-width:1\" /><line x1=\"203.53\" y1=\"209.452\" x2=\"144.078\" y2=\"262.982\" stroke-linecap=\"round\" style=\"stroke:black;stroke-width:1\" /><line x1=\"144.078\" y1=\"262.982\" x2=\"90.548\" y2=\"203.53\" stroke-linecap=\"round\" style=\"stroke:black;stroke-width:1\" /><line x1=\"90.548\" y1=\"203.53\" x2=\"150.0\" y2=\"150.0\" stroke-linecap=\"round\" style=\"stroke:black;stroke-width:1\" /><line x1=\"150.0\" y1=\"150.0\" x2=\"197.023\" y2=\"214.721\" stroke-linecap=\"round\" style=\"stroke:black;stroke-width:1\" /><line x1=\"197.023\" y1=\"214.721\" x2=\"132.302\" y2=\"261.744\" stroke-linecap=\"round\" style=\"stroke:black;stroke-width:1\" /><line x1=\"132.302\" y1=\"261.744\" x2=\"85.279\" y2=\"197.023\" stroke-linecap=\"round\" style=\"stroke:black;stroke-width:1\" /><line x1=\"85.279\" y1=\"197.023\" x2=\"150.0\" y2=\"150.0\" stroke-linecap=\"round\" style=\"stroke:black;stroke-width:1\" /><line x1=\"150.0\" y1=\"150.0\" x2=\"190.0\" y2=\"219.282\" stroke-linecap=\"round\" style=\"stroke:black;stroke-width:1\" /><line x1=\"190.0\" y1=\"219.282\" x2=\"120.718\" y2=\"259.282\" stroke-linecap=\"round\" style=\"stroke:black;stroke-width:1\" /><line x1=\"120.718\" y1=\"259.282\" x2=\"80.718\" y2=\"190.0\" stroke-linecap=\"round\" style=\"stroke:black;stroke-width:1\" /><line x1=\"80.718\" y1=\"190.0\" x2=\"150.0\" y2=\"150.0\" stroke-linecap=\"round\" style=\"stroke:black;stroke-width:1\" /><line x1=\"150.0\" y1=\"150.0\" x2=\"182.539\" y2=\"223.084\" stroke-linecap=\"round\" style=\"stroke:black;stroke-width:1\" /><line x1=\"182.539\" y1=\"223.084\" x2=\"109.455\" y2=\"255.623\" stroke-linecap=\"round\" style=\"stroke:black;stroke-width:1\" /><line x1=\"109.455\" y1=\"255.623\" x2=\"76.916\" y2=\"182.539\" stroke-linecap=\"round\" style=\"stroke:black;stroke-width:1\" /><line x1=\"76.916\" y1=\"182.539\" x2=\"150.0\" y2=\"150.0\" stroke-linecap=\"round\" style=\"stroke:black;stroke-width:1\" /><line x1=\"150.0\" y1=\"150.0\" x2=\"174.721\" y2=\"226.085\" stroke-linecap=\"round\" style=\"stroke:black;stroke-width:1\" /><line x1=\"174.721\" y1=\"226.085\" x2=\"98.636\" y2=\"250.806\" stroke-linecap=\"round\" style=\"stroke:black;stroke-width:1\" /><line x1=\"98.636\" y1=\"250.806\" x2=\"73.915\" y2=\"174.721\" stroke-linecap=\"round\" style=\"stroke:black;stroke-width:1\" /><line x1=\"73.915\" y1=\"174.721\" x2=\"150.0\" y2=\"150.0\" stroke-linecap=\"round\" style=\"stroke:black;stroke-width:1\" /><line x1=\"150.0\" y1=\"150.0\" x2=\"166.633\" y2=\"228.252\" stroke-linecap=\"round\" style=\"stroke:black;stroke-width:1\" /><line x1=\"166.633\" y1=\"228.252\" x2=\"88.381\" y2=\"244.885\" stroke-linecap=\"round\" style=\"stroke:black;stroke-width:1\" /><line x1=\"88.381\" y1=\"244.885\" x2=\"71.748\" y2=\"166.633\" stroke-linecap=\"round\" style=\"stroke:black;stroke-width:1\" /><line x1=\"71.748\" y1=\"166.633\" x2=\"150.0\" y2=\"150.0\" stroke-linecap=\"round\" style=\"stroke:black;stroke-width:1\" /><line x1=\"150.0\" y1=\"150.0\" x2=\"158.362\" y2=\"229.562\" stroke-linecap=\"round\" style=\"stroke:black;stroke-width:1\" /><line x1=\"158.362\" y1=\"229.562\" x2=\"78.8\" y2=\"237.924\" stroke-linecap=\"round\" style=\"stroke:black;stroke-width:1\" /><line x1=\"78.8\" y1=\"237.924\" x2=\"70.438\" y2=\"158.362\" stroke-linecap=\"round\" style=\"stroke:black;stroke-width:1\" /><line x1=\"70.438\" y1=\"158.362\" x2=\"150.0\" y2=\"150.0\" stroke-linecap=\"round\" style=\"stroke:black;stroke-width:1\" /><line x1=\"150.0\" y1=\"150.0\" x2=\"150.0\" y2=\"230.0\" stroke-linecap=\"round\" style=\"stroke:black;stroke-width:1\" /><line x1=\"150.0\" y1=\"230.0\" x2=\"70.0\" y2=\"230.0\" stroke-linecap=\"round\" style=\"stroke:black;stroke-width:1\" /><line x1=\"70.0\" y1=\"230.0\" x2=\"70.0\" y2=\"150.0\" stroke-linecap=\"round\" style=\"stroke:black;stroke-width:1\" /><line x1=\"70.0\" y1=\"150.0\" x2=\"150.0\" y2=\"150.0\" stroke-linecap=\"round\" style=\"stroke:black;stroke-width:1\" /><line x1=\"150.0\" y1=\"150.0\" x2=\"141.638\" y2=\"229.562\" stroke-linecap=\"round\" style=\"stroke:black;stroke-width:1\" /><line x1=\"141.638\" y1=\"229.562\" x2=\"62.076\" y2=\"221.2\" stroke-linecap=\"round\" style=\"stroke:black;stroke-width:1\" /><line x1=\"62.076\" y1=\"221.2\" x2=\"70.438\" y2=\"141.638\" stroke-linecap=\"round\" style=\"stroke:black;stroke-width:1\" /><line x1=\"70.438\" y1=\"141.638\" x2=\"150.0\" y2=\"150.0\" stroke-linecap=\"round\" style=\"stroke:black;stroke-width:1\" /><line x1=\"150.0\" y1=\"150.0\" x2=\"133.367\" y2=\"228.252\" stroke-linecap=\"round\" style=\"stroke:black;stroke-width:1\" /><line x1=\"133.367\" y1=\"228.252\" x2=\"55.115\" y2=\"211.619\" stroke-linecap=\"round\" style=\"stroke:black;stroke-width:1\" /><line x1=\"55.115\" y1=\"211.619\" x2=\"71.748\" y2=\"133.367\" stroke-linecap=\"round\" style=\"stroke:black;stroke-width:1\" /><line x1=\"71.748\" y1=\"133.367\" x2=\"150.0\" y2=\"150.0\" stroke-linecap=\"round\" style=\"stroke:black;stroke-width:1\" /><line x1=\"150.0\" y1=\"150.0\" x2=\"125.279\" y2=\"226.085\" stroke-linecap=\"round\" style=\"stroke:black;stroke-width:1\" /><line x1=\"125.279\" y1=\"226.085\" x2=\"49.194\" y2=\"201.364\" stroke-linecap=\"round\" style=\"stroke:black;stroke-width:1\" /><line x1=\"49.194\" y1=\"201.364\" x2=\"73.915\" y2=\"125.279\" stroke-linecap=\"round\" style=\"stroke:black;stroke-width:1\" /><line x1=\"73.915\" y1=\"125.279\" x2=\"150.0\" y2=\"150.0\" stroke-linecap=\"round\" style=\"stroke:black;stroke-width:1\" /><line x1=\"150.0\" y1=\"150.0\" x2=\"117.461\" y2=\"223.084\" stroke-linecap=\"round\" style=\"stroke:black;stroke-width:1\" /><line x1=\"117.461\" y1=\"223.084\" x2=\"44.377\" y2=\"190.545\" stroke-linecap=\"round\" style=\"stroke:black;stroke-width:1\" /><line x1=\"44.377\" y1=\"190.545\" x2=\"76.916\" y2=\"117.461\" stroke-linecap=\"round\" style=\"stroke:black;stroke-width:1\" /><line x1=\"76.916\" y1=\"117.461\" x2=\"150.0\" y2=\"150.0\" stroke-linecap=\"round\" style=\"stroke:black;stroke-width:1\" /><line x1=\"150.0\" y1=\"150.0\" x2=\"110.0\" y2=\"219.282\" stroke-linecap=\"round\" style=\"stroke:black;stroke-width:1\" /><line x1=\"110.0\" y1=\"219.282\" x2=\"40.718\" y2=\"179.282\" stroke-linecap=\"round\" style=\"stroke:black;stroke-width:1\" /><line x1=\"40.718\" y1=\"179.282\" x2=\"80.718\" y2=\"110.0\" stroke-linecap=\"round\" style=\"stroke:black;stroke-width:1\" /><line x1=\"80.718\" y1=\"110.0\" x2=\"150.0\" y2=\"150.0\" stroke-linecap=\"round\" style=\"stroke:black;stroke-width:1\" /><line x1=\"150.0\" y1=\"150.0\" x2=\"102.977\" y2=\"214.721\" stroke-linecap=\"round\" style=\"stroke:black;stroke-width:1\" /><line x1=\"102.977\" y1=\"214.721\" x2=\"38.256\" y2=\"167.698\" stroke-linecap=\"round\" style=\"stroke:black;stroke-width:1\" /><line x1=\"38.256\" y1=\"167.698\" x2=\"85.279\" y2=\"102.977\" stroke-linecap=\"round\" style=\"stroke:black;stroke-width:1\" /><line x1=\"85.279\" y1=\"102.977\" x2=\"150.0\" y2=\"150.0\" stroke-linecap=\"round\" style=\"stroke:black;stroke-width:1\" /><line x1=\"150.0\" y1=\"150.0\" x2=\"96.47\" y2=\"209.452\" stroke-linecap=\"round\" style=\"stroke:black;stroke-width:1\" /><line x1=\"96.47\" y1=\"209.452\" x2=\"37.018\" y2=\"155.922\" stroke-linecap=\"round\" style=\"stroke:black;stroke-width:1\" /><line x1=\"37.018\" y1=\"155.922\" x2=\"90.548\" y2=\"96.47\" stroke-linecap=\"round\" style=\"stroke:black;stroke-width:1\" /><line x1=\"90.548\" y1=\"96.47\" x2=\"150.0\" y2=\"150.0\" stroke-linecap=\"round\" style=\"stroke:black;stroke-width:1\" /><line x1=\"150.0\" y1=\"150.0\" x2=\"90.548\" y2=\"203.53\" stroke-linecap=\"round\" style=\"stroke:black;stroke-width:1\" /><line x1=\"90.548\" y1=\"203.53\" x2=\"37.018\" y2=\"144.078\" stroke-linecap=\"round\" style=\"stroke:black;stroke-width:1\" /><line x1=\"37.018\" y1=\"144.078\" x2=\"96.47\" y2=\"90.548\" stroke-linecap=\"round\" style=\"stroke:black;stroke-width:1\" /><line x1=\"96.47\" y1=\"90.548\" x2=\"150.0\" y2=\"150.0\" stroke-linecap=\"round\" style=\"stroke:black;stroke-width:1\" /><line x1=\"150.0\" y1=\"150.0\" x2=\"85.279\" y2=\"197.023\" stroke-linecap=\"round\" style=\"stroke:black;stroke-width:1\" /><line x1=\"85.279\" y1=\"197.023\" x2=\"38.256\" y2=\"132.302\" stroke-linecap=\"round\" style=\"stroke:black;stroke-width:1\" /><line x1=\"38.256\" y1=\"132.302\" x2=\"102.977\" y2=\"85.279\" stroke-linecap=\"round\" style=\"stroke:black;stroke-width:1\" /><line x1=\"102.977\" y1=\"85.279\" x2=\"150.0\" y2=\"150.0\" stroke-linecap=\"round\" style=\"stroke:black;stroke-width:1\" /><line x1=\"150.0\" y1=\"150.0\" x2=\"80.718\" y2=\"190.0\" stroke-linecap=\"round\" style=\"stroke:black;stroke-width:1\" /><line x1=\"80.718\" y1=\"190.0\" x2=\"40.718\" y2=\"120.718\" stroke-linecap=\"round\" style=\"stroke:black;stroke-width:1\" /><line x1=\"40.718\" y1=\"120.718\" x2=\"110.0\" y2=\"80.718\" stroke-linecap=\"round\" style=\"stroke:black;stroke-width:1\" /><line x1=\"110.0\" y1=\"80.718\" x2=\"150.0\" y2=\"150.0\" stroke-linecap=\"round\" style=\"stroke:black;stroke-width:1\" /><line x1=\"150.0\" y1=\"150.0\" x2=\"76.916\" y2=\"182.539\" stroke-linecap=\"round\" style=\"stroke:black;stroke-width:1\" /><line x1=\"76.916\" y1=\"182.539\" x2=\"44.377\" y2=\"109.455\" stroke-linecap=\"round\" style=\"stroke:black;stroke-width:1\" /><line x1=\"44.377\" y1=\"109.455\" x2=\"117.461\" y2=\"76.916\" stroke-linecap=\"round\" style=\"stroke:black;stroke-width:1\" /><line x1=\"117.461\" y1=\"76.916\" x2=\"150.0\" y2=\"150.0\" stroke-linecap=\"round\" style=\"stroke:black;stroke-width:1\" /><line x1=\"150.0\" y1=\"150.0\" x2=\"73.915\" y2=\"174.721\" stroke-linecap=\"round\" style=\"stroke:black;stroke-width:1\" /><line x1=\"73.915\" y1=\"174.721\" x2=\"49.194\" y2=\"98.636\" stroke-linecap=\"round\" style=\"stroke:black;stroke-width:1\" /><line x1=\"49.194\" y1=\"98.636\" x2=\"125.279\" y2=\"73.915\" stroke-linecap=\"round\" style=\"stroke:black;stroke-width:1\" /><line x1=\"125.279\" y1=\"73.915\" x2=\"150.0\" y2=\"150.0\" stroke-linecap=\"round\" style=\"stroke:black;stroke-width:1\" /><line x1=\"150.0\" y1=\"150.0\" x2=\"71.748\" y2=\"166.633\" stroke-linecap=\"round\" style=\"stroke:black;stroke-width:1\" /><line x1=\"71.748\" y1=\"166.633\" x2=\"55.115\" y2=\"88.381\" stroke-linecap=\"round\" style=\"stroke:black;stroke-width:1\" /><line x1=\"55.115\" y1=\"88.381\" x2=\"133.367\" y2=\"71.748\" stroke-linecap=\"round\" style=\"stroke:black;stroke-width:1\" /><line x1=\"133.367\" y1=\"71.748\" x2=\"150.0\" y2=\"150.0\" stroke-linecap=\"round\" style=\"stroke:black;stroke-width:1\" /><line x1=\"150.0\" y1=\"150.0\" x2=\"70.438\" y2=\"158.362\" stroke-linecap=\"round\" style=\"stroke:black;stroke-width:1\" /><line x1=\"70.438\" y1=\"158.362\" x2=\"62.076\" y2=\"78.8\" stroke-linecap=\"round\" style=\"stroke:black;stroke-width:1\" /><line x1=\"62.076\" y1=\"78.8\" x2=\"141.638\" y2=\"70.438\" stroke-linecap=\"round\" style=\"stroke:black;stroke-width:1\" /><line x1=\"141.638\" y1=\"70.438\" x2=\"150.0\" y2=\"150.0\" stroke-linecap=\"round\" style=\"stroke:black;stroke-width:1\" /><line x1=\"150.0\" y1=\"150.0\" x2=\"70.0\" y2=\"150.0\" stroke-linecap=\"round\" style=\"stroke:black;stroke-width:1\" /><line x1=\"70.0\" y1=\"150.0\" x2=\"70.0\" y2=\"70.0\" stroke-linecap=\"round\" style=\"stroke:black;stroke-width:1\" /><line x1=\"70.0\" y1=\"70.0\" x2=\"150.0\" y2=\"70.0\" stroke-linecap=\"round\" style=\"stroke:black;stroke-width:1\" /><line x1=\"150.0\" y1=\"70.0\" x2=\"150.0\" y2=\"150.0\" stroke-linecap=\"round\" style=\"stroke:black;stroke-width:1\" /><line x1=\"150.0\" y1=\"150.0\" x2=\"70.438\" y2=\"141.638\" stroke-linecap=\"round\" style=\"stroke:black;stroke-width:1\" /><line x1=\"70.438\" y1=\"141.638\" x2=\"78.8\" y2=\"62.076\" stroke-linecap=\"round\" style=\"stroke:black;stroke-width:1\" /><line x1=\"78.8\" y1=\"62.076\" x2=\"158.362\" y2=\"70.438\" stroke-linecap=\"round\" style=\"stroke:black;stroke-width:1\" /><line x1=\"158.362\" y1=\"70.438\" x2=\"150.0\" y2=\"150.0\" stroke-linecap=\"round\" style=\"stroke:black;stroke-width:1\" /><line x1=\"150.0\" y1=\"150.0\" x2=\"71.748\" y2=\"133.367\" stroke-linecap=\"round\" style=\"stroke:black;stroke-width:1\" /><line x1=\"71.748\" y1=\"133.367\" x2=\"88.381\" y2=\"55.115\" stroke-linecap=\"round\" style=\"stroke:black;stroke-width:1\" /><line x1=\"88.381\" y1=\"55.115\" x2=\"166.633\" y2=\"71.748\" stroke-linecap=\"round\" style=\"stroke:black;stroke-width:1\" /><line x1=\"166.633\" y1=\"71.748\" x2=\"150.0\" y2=\"150.0\" stroke-linecap=\"round\" style=\"stroke:black;stroke-width:1\" /><line x1=\"150.0\" y1=\"150.0\" x2=\"73.915\" y2=\"125.279\" stroke-linecap=\"round\" style=\"stroke:black;stroke-width:1\" /><line x1=\"73.915\" y1=\"125.279\" x2=\"98.636\" y2=\"49.194\" stroke-linecap=\"round\" style=\"stroke:black;stroke-width:1\" /><line x1=\"98.636\" y1=\"49.194\" x2=\"174.721\" y2=\"73.915\" stroke-linecap=\"round\" style=\"stroke:black;stroke-width:1\" /><line x1=\"174.721\" y1=\"73.915\" x2=\"150.0\" y2=\"150.0\" stroke-linecap=\"round\" style=\"stroke:black;stroke-width:1\" /><line x1=\"150.0\" y1=\"150.0\" x2=\"76.916\" y2=\"117.461\" stroke-linecap=\"round\" style=\"stroke:black;stroke-width:1\" /><line x1=\"76.916\" y1=\"117.461\" x2=\"109.455\" y2=\"44.377\" stroke-linecap=\"round\" style=\"stroke:black;stroke-width:1\" /><line x1=\"109.455\" y1=\"44.377\" x2=\"182.539\" y2=\"76.916\" stroke-linecap=\"round\" style=\"stroke:black;stroke-width:1\" /><line x1=\"182.539\" y1=\"76.916\" x2=\"150.0\" y2=\"150.0\" stroke-linecap=\"round\" style=\"stroke:black;stroke-width:1\" /><line x1=\"150.0\" y1=\"150.0\" x2=\"80.718\" y2=\"110.0\" stroke-linecap=\"round\" style=\"stroke:black;stroke-width:1\" /><line x1=\"80.718\" y1=\"110.0\" x2=\"120.718\" y2=\"40.718\" stroke-linecap=\"round\" style=\"stroke:black;stroke-width:1\" /><line x1=\"120.718\" y1=\"40.718\" x2=\"190.0\" y2=\"80.718\" stroke-linecap=\"round\" style=\"stroke:black;stroke-width:1\" /><line x1=\"190.0\" y1=\"80.718\" x2=\"150.0\" y2=\"150.0\" stroke-linecap=\"round\" style=\"stroke:black;stroke-width:1\" /><line x1=\"150.0\" y1=\"150.0\" x2=\"85.279\" y2=\"102.977\" stroke-linecap=\"round\" style=\"stroke:black;stroke-width:1\" /><line x1=\"85.279\" y1=\"102.977\" x2=\"132.302\" y2=\"38.256\" stroke-linecap=\"round\" style=\"stroke:black;stroke-width:1\" /><line x1=\"132.302\" y1=\"38.256\" x2=\"197.023\" y2=\"85.279\" stroke-linecap=\"round\" style=\"stroke:black;stroke-width:1\" /><line x1=\"197.023\" y1=\"85.279\" x2=\"150.0\" y2=\"150.0\" stroke-linecap=\"round\" style=\"stroke:black;stroke-width:1\" /><line x1=\"150.0\" y1=\"150.0\" x2=\"90.548\" y2=\"96.47\" stroke-linecap=\"round\" style=\"stroke:black;stroke-width:1\" /><line x1=\"90.548\" y1=\"96.47\" x2=\"144.078\" y2=\"37.018\" stroke-linecap=\"round\" style=\"stroke:black;stroke-width:1\" /><line x1=\"144.078\" y1=\"37.018\" x2=\"203.53\" y2=\"90.548\" stroke-linecap=\"round\" style=\"stroke:black;stroke-width:1\" /><line x1=\"203.53\" y1=\"90.548\" x2=\"150.0\" y2=\"150.0\" stroke-linecap=\"round\" style=\"stroke:black;stroke-width:1\" /><line x1=\"150.0\" y1=\"150.0\" x2=\"96.47\" y2=\"90.548\" stroke-linecap=\"round\" style=\"stroke:black;stroke-width:1\" /><line x1=\"96.47\" y1=\"90.548\" x2=\"155.922\" y2=\"37.018\" stroke-linecap=\"round\" style=\"stroke:black;stroke-width:1\" /><line x1=\"155.922\" y1=\"37.018\" x2=\"209.452\" y2=\"96.47\" stroke-linecap=\"round\" style=\"stroke:black;stroke-width:1\" /><line x1=\"209.452\" y1=\"96.47\" x2=\"150.0\" y2=\"150.0\" stroke-linecap=\"round\" style=\"stroke:black;stroke-width:1\" /><line x1=\"150.0\" y1=\"150.0\" x2=\"102.977\" y2=\"85.279\" stroke-linecap=\"round\" style=\"stroke:black;stroke-width:1\" /><line x1=\"102.977\" y1=\"85.279\" x2=\"167.698\" y2=\"38.256\" stroke-linecap=\"round\" style=\"stroke:black;stroke-width:1\" /><line x1=\"167.698\" y1=\"38.256\" x2=\"214.721\" y2=\"102.977\" stroke-linecap=\"round\" style=\"stroke:black;stroke-width:1\" /><line x1=\"214.721\" y1=\"102.977\" x2=\"150.0\" y2=\"150.0\" stroke-linecap=\"round\" style=\"stroke:black;stroke-width:1\" /><line x1=\"150.0\" y1=\"150.0\" x2=\"110.0\" y2=\"80.718\" stroke-linecap=\"round\" style=\"stroke:black;stroke-width:1\" /><line x1=\"110.0\" y1=\"80.718\" x2=\"179.282\" y2=\"40.718\" stroke-linecap=\"round\" style=\"stroke:black;stroke-width:1\" /><line x1=\"179.282\" y1=\"40.718\" x2=\"219.282\" y2=\"110.0\" stroke-linecap=\"round\" style=\"stroke:black;stroke-width:1\" /><line x1=\"219.282\" y1=\"110.0\" x2=\"150.0\" y2=\"150.0\" stroke-linecap=\"round\" style=\"stroke:black;stroke-width:1\" /><line x1=\"150.0\" y1=\"150.0\" x2=\"117.461\" y2=\"76.916\" stroke-linecap=\"round\" style=\"stroke:black;stroke-width:1\" /><line x1=\"117.461\" y1=\"76.916\" x2=\"190.545\" y2=\"44.377\" stroke-linecap=\"round\" style=\"stroke:black;stroke-width:1\" /><line x1=\"190.545\" y1=\"44.377\" x2=\"223.084\" y2=\"117.461\" stroke-linecap=\"round\" style=\"stroke:black;stroke-width:1\" /><line x1=\"223.084\" y1=\"117.461\" x2=\"150.0\" y2=\"150.0\" stroke-linecap=\"round\" style=\"stroke:black;stroke-width:1\" /><line x1=\"150.0\" y1=\"150.0\" x2=\"125.279\" y2=\"73.915\" stroke-linecap=\"round\" style=\"stroke:black;stroke-width:1\" /><line x1=\"125.279\" y1=\"73.915\" x2=\"201.364\" y2=\"49.194\" stroke-linecap=\"round\" style=\"stroke:black;stroke-width:1\" /><line x1=\"201.364\" y1=\"49.194\" x2=\"226.085\" y2=\"125.279\" stroke-linecap=\"round\" style=\"stroke:black;stroke-width:1\" /><line x1=\"226.085\" y1=\"125.279\" x2=\"150.0\" y2=\"150.0\" stroke-linecap=\"round\" style=\"stroke:black;stroke-width:1\" /><line x1=\"150.0\" y1=\"150.0\" x2=\"133.367\" y2=\"71.748\" stroke-linecap=\"round\" style=\"stroke:black;stroke-width:1\" /><line x1=\"133.367\" y1=\"71.748\" x2=\"211.619\" y2=\"55.115\" stroke-linecap=\"round\" style=\"stroke:black;stroke-width:1\" /><line x1=\"211.619\" y1=\"55.115\" x2=\"228.252\" y2=\"133.367\" stroke-linecap=\"round\" style=\"stroke:black;stroke-width:1\" /><line x1=\"228.252\" y1=\"133.367\" x2=\"150.0\" y2=\"150.0\" stroke-linecap=\"round\" style=\"stroke:black;stroke-width:1\" /><line x1=\"150.0\" y1=\"150.0\" x2=\"141.638\" y2=\"70.438\" stroke-linecap=\"round\" style=\"stroke:black;stroke-width:1\" /><line x1=\"141.638\" y1=\"70.438\" x2=\"221.2\" y2=\"62.076\" stroke-linecap=\"round\" style=\"stroke:black;stroke-width:1\" /><line x1=\"221.2\" y1=\"62.076\" x2=\"229.562\" y2=\"141.638\" stroke-linecap=\"round\" style=\"stroke:black;stroke-width:1\" /><line x1=\"229.562\" y1=\"141.638\" x2=\"150.0\" y2=\"150.0\" stroke-linecap=\"round\" style=\"stroke:black;stroke-width:1\" /><line x1=\"150.0\" y1=\"150.0\" x2=\"150.0\" y2=\"70.0\" stroke-linecap=\"round\" style=\"stroke:black;stroke-width:1\" /><line x1=\"150.0\" y1=\"70.0\" x2=\"230.0\" y2=\"70.0\" stroke-linecap=\"round\" style=\"stroke:black;stroke-width:1\" /><line x1=\"230.0\" y1=\"70.0\" x2=\"230.0\" y2=\"150.0\" stroke-linecap=\"round\" style=\"stroke:black;stroke-width:1\" /><line x1=\"230.0\" y1=\"150.0\" x2=\"150.0\" y2=\"150.0\" stroke-linecap=\"round\" style=\"stroke:black;stroke-width:1\" /><line x1=\"150.0\" y1=\"150.0\" x2=\"158.362\" y2=\"70.438\" stroke-linecap=\"round\" style=\"stroke:black;stroke-width:1\" /><line x1=\"158.362\" y1=\"70.438\" x2=\"237.924\" y2=\"78.8\" stroke-linecap=\"round\" style=\"stroke:black;stroke-width:1\" /><line x1=\"237.924\" y1=\"78.8\" x2=\"229.562\" y2=\"158.362\" stroke-linecap=\"round\" style=\"stroke:black;stroke-width:1\" /><line x1=\"229.562\" y1=\"158.362\" x2=\"150.0\" y2=\"150.0\" stroke-linecap=\"round\" style=\"stroke:black;stroke-width:1\" /><line x1=\"150.0\" y1=\"150.0\" x2=\"166.633\" y2=\"71.748\" stroke-linecap=\"round\" style=\"stroke:black;stroke-width:1\" /><line x1=\"166.633\" y1=\"71.748\" x2=\"244.885\" y2=\"88.381\" stroke-linecap=\"round\" style=\"stroke:black;stroke-width:1\" /><line x1=\"244.885\" y1=\"88.381\" x2=\"228.252\" y2=\"166.633\" stroke-linecap=\"round\" style=\"stroke:black;stroke-width:1\" /><line x1=\"228.252\" y1=\"166.633\" x2=\"150.0\" y2=\"150.0\" stroke-linecap=\"round\" style=\"stroke:black;stroke-width:1\" /><line x1=\"150.0\" y1=\"150.0\" x2=\"174.721\" y2=\"73.915\" stroke-linecap=\"round\" style=\"stroke:black;stroke-width:1\" /><line x1=\"174.721\" y1=\"73.915\" x2=\"250.806\" y2=\"98.636\" stroke-linecap=\"round\" style=\"stroke:black;stroke-width:1\" /><line x1=\"250.806\" y1=\"98.636\" x2=\"226.085\" y2=\"174.721\" stroke-linecap=\"round\" style=\"stroke:black;stroke-width:1\" /><line x1=\"226.085\" y1=\"174.721\" x2=\"150.0\" y2=\"150.0\" stroke-linecap=\"round\" style=\"stroke:black;stroke-width:1\" /><line x1=\"150.0\" y1=\"150.0\" x2=\"182.539\" y2=\"76.916\" stroke-linecap=\"round\" style=\"stroke:black;stroke-width:1\" /><line x1=\"182.539\" y1=\"76.916\" x2=\"255.623\" y2=\"109.455\" stroke-linecap=\"round\" style=\"stroke:black;stroke-width:1\" /><line x1=\"255.623\" y1=\"109.455\" x2=\"223.084\" y2=\"182.539\" stroke-linecap=\"round\" style=\"stroke:black;stroke-width:1\" /><line x1=\"223.084\" y1=\"182.539\" x2=\"150.0\" y2=\"150.0\" stroke-linecap=\"round\" style=\"stroke:black;stroke-width:1\" /><line x1=\"150.0\" y1=\"150.0\" x2=\"190.0\" y2=\"80.718\" stroke-linecap=\"round\" style=\"stroke:black;stroke-width:1\" /><line x1=\"190.0\" y1=\"80.718\" x2=\"259.282\" y2=\"120.718\" stroke-linecap=\"round\" style=\"stroke:black;stroke-width:1\" /><line x1=\"259.282\" y1=\"120.718\" x2=\"219.282\" y2=\"190.0\" stroke-linecap=\"round\" style=\"stroke:black;stroke-width:1\" /><line x1=\"219.282\" y1=\"190.0\" x2=\"150.0\" y2=\"150.0\" stroke-linecap=\"round\" style=\"stroke:black;stroke-width:1\" /><line x1=\"150.0\" y1=\"150.0\" x2=\"197.023\" y2=\"85.279\" stroke-linecap=\"round\" style=\"stroke:black;stroke-width:1\" /><line x1=\"197.023\" y1=\"85.279\" x2=\"261.744\" y2=\"132.302\" stroke-linecap=\"round\" style=\"stroke:black;stroke-width:1\" /><line x1=\"261.744\" y1=\"132.302\" x2=\"214.721\" y2=\"197.023\" stroke-linecap=\"round\" style=\"stroke:black;stroke-width:1\" /><line x1=\"214.721\" y1=\"197.023\" x2=\"150.0\" y2=\"150.0\" stroke-linecap=\"round\" style=\"stroke:black;stroke-width:1\" /><line x1=\"150.0\" y1=\"150.0\" x2=\"203.53\" y2=\"90.548\" stroke-linecap=\"round\" style=\"stroke:black;stroke-width:1\" /><line x1=\"203.53\" y1=\"90.548\" x2=\"262.982\" y2=\"144.078\" stroke-linecap=\"round\" style=\"stroke:black;stroke-width:1\" /><line x1=\"262.982\" y1=\"144.078\" x2=\"209.452\" y2=\"203.53\" stroke-linecap=\"round\" style=\"stroke:black;stroke-width:1\" /><line x1=\"209.452\" y1=\"203.53\" x2=\"150.0\" y2=\"150.0\" stroke-linecap=\"round\" style=\"stroke:black;stroke-width:1\" /><line x1=\"150.0\" y1=\"150.0\" x2=\"209.452\" y2=\"96.47\" stroke-linecap=\"round\" style=\"stroke:black;stroke-width:1\" /><line x1=\"209.452\" y1=\"96.47\" x2=\"262.982\" y2=\"155.922\" stroke-linecap=\"round\" style=\"stroke:black;stroke-width:1\" /><line x1=\"262.982\" y1=\"155.922\" x2=\"203.53\" y2=\"209.452\" stroke-linecap=\"round\" style=\"stroke:black;stroke-width:1\" /><line x1=\"203.53\" y1=\"209.452\" x2=\"150.0\" y2=\"150.0\" stroke-linecap=\"round\" style=\"stroke:black;stroke-width:1\" /><line x1=\"150.0\" y1=\"150.0\" x2=\"214.721\" y2=\"102.977\" stroke-linecap=\"round\" style=\"stroke:black;stroke-width:1\" /><line x1=\"214.721\" y1=\"102.977\" x2=\"261.744\" y2=\"167.698\" stroke-linecap=\"round\" style=\"stroke:black;stroke-width:1\" /><line x1=\"261.744\" y1=\"167.698\" x2=\"197.023\" y2=\"214.721\" stroke-linecap=\"round\" style=\"stroke:black;stroke-width:1\" /><line x1=\"197.023\" y1=\"214.721\" x2=\"150.0\" y2=\"150.0\" stroke-linecap=\"round\" style=\"stroke:black;stroke-width:1\" /><line x1=\"150.0\" y1=\"150.0\" x2=\"219.282\" y2=\"110.0\" stroke-linecap=\"round\" style=\"stroke:black;stroke-width:1\" /><line x1=\"219.282\" y1=\"110.0\" x2=\"259.282\" y2=\"179.282\" stroke-linecap=\"round\" style=\"stroke:black;stroke-width:1\" /><line x1=\"259.282\" y1=\"179.282\" x2=\"190.0\" y2=\"219.282\" stroke-linecap=\"round\" style=\"stroke:black;stroke-width:1\" /><line x1=\"190.0\" y1=\"219.282\" x2=\"150.0\" y2=\"150.0\" stroke-linecap=\"round\" style=\"stroke:black;stroke-width:1\" /><line x1=\"150.0\" y1=\"150.0\" x2=\"223.084\" y2=\"117.461\" stroke-linecap=\"round\" style=\"stroke:black;stroke-width:1\" /><line x1=\"223.084\" y1=\"117.461\" x2=\"255.623\" y2=\"190.545\" stroke-linecap=\"round\" style=\"stroke:black;stroke-width:1\" /><line x1=\"255.623\" y1=\"190.545\" x2=\"182.539\" y2=\"223.084\" stroke-linecap=\"round\" style=\"stroke:black;stroke-width:1\" /><line x1=\"182.539\" y1=\"223.084\" x2=\"150.0\" y2=\"150.0\" stroke-linecap=\"round\" style=\"stroke:black;stroke-width:1\" /><line x1=\"150.0\" y1=\"150.0\" x2=\"226.085\" y2=\"125.279\" stroke-linecap=\"round\" style=\"stroke:black;stroke-width:1\" /><line x1=\"226.085\" y1=\"125.279\" x2=\"250.806\" y2=\"201.364\" stroke-linecap=\"round\" style=\"stroke:black;stroke-width:1\" /><line x1=\"250.806\" y1=\"201.364\" x2=\"174.721\" y2=\"226.085\" stroke-linecap=\"round\" style=\"stroke:black;stroke-width:1\" /><line x1=\"174.721\" y1=\"226.085\" x2=\"150.0\" y2=\"150.0\" stroke-linecap=\"round\" style=\"stroke:black;stroke-width:1\" /><line x1=\"150.0\" y1=\"150.0\" x2=\"228.252\" y2=\"133.367\" stroke-linecap=\"round\" style=\"stroke:black;stroke-width:1\" /><line x1=\"228.252\" y1=\"133.367\" x2=\"244.885\" y2=\"211.619\" stroke-linecap=\"round\" style=\"stroke:black;stroke-width:1\" /><line x1=\"244.885\" y1=\"211.619\" x2=\"166.633\" y2=\"228.252\" stroke-linecap=\"round\" style=\"stroke:black;stroke-width:1\" /><line x1=\"166.633\" y1=\"228.252\" x2=\"150.0\" y2=\"150.0\" stroke-linecap=\"round\" style=\"stroke:black;stroke-width:1\" /><line x1=\"150.0\" y1=\"150.0\" x2=\"229.562\" y2=\"141.638\" stroke-linecap=\"round\" style=\"stroke:black;stroke-width:1\" /><line x1=\"229.562\" y1=\"141.638\" x2=\"237.924\" y2=\"221.2\" stroke-linecap=\"round\" style=\"stroke:black;stroke-width:1\" /><line x1=\"237.924\" y1=\"221.2\" x2=\"158.362\" y2=\"229.562\" stroke-linecap=\"round\" style=\"stroke:black;stroke-width:1\" /><line x1=\"158.362\" y1=\"229.562\" x2=\"150.0\" y2=\"150.0\" stroke-linecap=\"round\" style=\"stroke:black;stroke-width:1\" />\n",
              "        \n",
              "        \n",
              "        <g id=\"classic\" visibility=\"visible\" transform=\"rotate(264,150.0,150.0) translate(150.0, 150.0)\">\n",
              "<polygon points=\"-5,-4.5 0,-2.5 5,-4.5 0,4.5\" transform=\"skewX(0) scale(1,1)\" style=\"stroke:black;fill:black;stroke-width:1\" />\n",
              "<animateTransform id = \"one\" attributeName=\"transform\" \n",
              "                      type=\"scale\"\n",
              "                      from=\"1 1\" to=\"1 1\"\n",
              "                      begin=\"0s\" dur=\"0.01s\"\n",
              "                      repeatCount=\"1\"\n",
              "                      additive=\"sum\"\n",
              "                      fill=\"freeze\"\n",
              "                /><animateTransform attributeName=\"transform\"\n",
              "                    type=\"rotate\"\n",
              "                    from=\"0 0 0\" to =\"6 0 0\"\n",
              "                    begin=\"one.end\" dur=\"0.0003333333333333333s\"\n",
              "                    repeatCount=\"1\"\n",
              "                    additive=\"sum\"\n",
              "                    fill=\"freeze\"\n",
              "                /></g>\n",
              "      </svg>\n",
              "    "
            ],
            "text/plain": [
              "<IPython.core.display.HTML object>"
            ]
          },
          "metadata": {}
        }
      ]
    },
    {
      "cell_type": "code",
      "metadata": {
        "id": "-2gVOcZCdx9E"
      },
      "source": [
        "clearscreen()\n",
        "setup(300,300)\n",
        "showborder()\n",
        "color(\"red\", \"yellow\")\n",
        "shape(\"turtle\")\n",
        "pensize(2)\n",
        "speed(7)\n",
        "begin_fill()\n",
        "for _ in range(4):\n",
        "  forward(100)\n",
        "  left(90)\n",
        "circle(-50)\n",
        "end_fill()\n",
        "color(\"black\",\"green\")\n",
        "saveSVG(turtle=True)"
      ],
      "execution_count": null,
      "outputs": []
    },
    {
      "cell_type": "markdown",
      "metadata": {
        "id": "nGikKdAZSCP0"
      },
      "source": [
        "<a name=\"Lister-arrayer-og-tilfeldige-tall\"></a>\n",
        "##6 Lister, arrayer og tilfeldige tall\n",
        "Content under development..\n",
        "\n",
        "\n",
        "[Til toppen](#top)"
      ]
    },
    {
      "cell_type": "markdown",
      "metadata": {
        "id": "JZuKXPvvNUTx"
      },
      "source": [
        "##6.1 Teori"
      ]
    },
    {
      "cell_type": "markdown",
      "metadata": {
        "id": "UZSDtANgNWJN"
      },
      "source": [
        "###6.2 Oppgaver"
      ]
    },
    {
      "cell_type": "markdown",
      "metadata": {
        "id": "G6N0-r9OQ7C8"
      },
      "source": [
        "####6.2.1 Oppgave\n",
        "Lag et program med en liste av land i [Skandinavia](https://no.wikipedia.org/wiki/Skandinavia#Landomr%C3%A5der_og_byomr%C3%A5der): Norge, Sverige og Danmark.\n",
        "Lag også en liste for hovedsteder og for folketall. Pass på at disse kommer i samme rekkefølge i de tre listene.\n",
        "a)\tLa programmet skrive ut en oversikt med land og befolkningstallet for hvert av de tre landene.\n",
        "b)\tUtvid utskriften i a) til at programmet også skriver ut en sum av befolkningen hele Skandinavia.\n",
        "c)\tLa brukeren kunne velge ett av landene, og få en oversikt/utskrift av landet, hovedstad og antall innbyggere.\n",
        "d)\tLegg til en liste for landenes areal og inkluder en utregning av Innbygger pr kvadratkilometer i utskriften for landet.\n",
        "Det er estimert at i Norge ha en befolkningsvekst på ca 0.31 % hvert år, Danmark 0,33% og Sverige 0,34%. \n",
        "e)\tLegg til et estimat for befolkningen for år 2050 til alle de tre landene i utskriften.\n",
        "\n",
        "![An image](https://upload.wikimedia.org/wikipedia/commons/thumb/f/f1/Scandinavia_M2002074_lrg.jpg/250px-Scandinavia_M2002074_lrg.jpg)\n",
        "\n",
        "```"
      ]
    },
    {
      "cell_type": "markdown",
      "metadata": {
        "id": "aa1vWmGgSIWM"
      },
      "source": [
        "<a name=\"Funksjoner\"></a>\n",
        "##7 Funksjoner\n",
        "Content under development..\n",
        "\n",
        "[Til toppen](#top)"
      ]
    },
    {
      "cell_type": "markdown",
      "metadata": {
        "id": "LfYd6kE-SMIm"
      },
      "source": [
        "<a name=\"Grafer-av-funksjoner-og-datasett\"></a>\n",
        "##8 Grafer av funksjoner og datasett\n",
        "Content under development..\n",
        "\n",
        "[Til toppen](#top)"
      ]
    },
    {
      "cell_type": "markdown",
      "metadata": {
        "id": "6qm2EuL1QMf0"
      },
      "source": [
        "<a name=\"Ekstramateriale\"></a>\n",
        "##9 Ekstramateriale\n",
        "\n",
        "[Til toppen](#top)"
      ]
    },
    {
      "cell_type": "markdown",
      "metadata": {
        "id": "yptPoe5MQTXo"
      },
      "source": [
        "<a name=\"Prosjekter\"></a>\n",
        "##10 Prosjekter\n",
        "\n",
        "[Til toppen](#top)\n",
        "\n",
        "\n"
      ]
    }
  ]
}